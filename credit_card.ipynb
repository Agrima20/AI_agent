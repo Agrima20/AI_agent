{
  "cells": [
    {
      "cell_type": "markdown",
      "metadata": {
        "id": "view-in-github",
        "colab_type": "text"
      },
      "source": [
        "<a href=\"https://colab.research.google.com/github/Agrima20/AI_agent/blob/main/credit_card.ipynb\" target=\"_parent\"><img src=\"https://colab.research.google.com/assets/colab-badge.svg\" alt=\"Open In Colab\"/></a>"
      ]
    },
    {
      "cell_type": "code",
      "execution_count": 1,
      "metadata": {
        "id": "KuysA58x2qVo"
      },
      "outputs": [],
      "source": [
        "from google.colab import files\n",
        "import pandas as pd"
      ]
    },
    {
      "cell_type": "code",
      "execution_count": 2,
      "metadata": {
        "colab": {
          "base_uri": "https://localhost:8080/",
          "height": 107
        },
        "id": "sX7WhKKe3SHZ",
        "outputId": "73de8374-f446-4237-e0fc-6cb0f5998e55"
      },
      "outputs": [
        {
          "output_type": "display_data",
          "data": {
            "text/plain": [
              "<IPython.core.display.HTML object>"
            ],
            "text/html": [
              "\n",
              "     <input type=\"file\" id=\"files-371654af-42ab-436e-b69d-64ebc321f070\" name=\"files[]\" multiple disabled\n",
              "        style=\"border:none\" />\n",
              "     <output id=\"result-371654af-42ab-436e-b69d-64ebc321f070\">\n",
              "      Upload widget is only available when the cell has been executed in the\n",
              "      current browser session. Please rerun this cell to enable.\n",
              "      </output>\n",
              "      <script>// Copyright 2017 Google LLC\n",
              "//\n",
              "// Licensed under the Apache License, Version 2.0 (the \"License\");\n",
              "// you may not use this file except in compliance with the License.\n",
              "// You may obtain a copy of the License at\n",
              "//\n",
              "//      http://www.apache.org/licenses/LICENSE-2.0\n",
              "//\n",
              "// Unless required by applicable law or agreed to in writing, software\n",
              "// distributed under the License is distributed on an \"AS IS\" BASIS,\n",
              "// WITHOUT WARRANTIES OR CONDITIONS OF ANY KIND, either express or implied.\n",
              "// See the License for the specific language governing permissions and\n",
              "// limitations under the License.\n",
              "\n",
              "/**\n",
              " * @fileoverview Helpers for google.colab Python module.\n",
              " */\n",
              "(function(scope) {\n",
              "function span(text, styleAttributes = {}) {\n",
              "  const element = document.createElement('span');\n",
              "  element.textContent = text;\n",
              "  for (const key of Object.keys(styleAttributes)) {\n",
              "    element.style[key] = styleAttributes[key];\n",
              "  }\n",
              "  return element;\n",
              "}\n",
              "\n",
              "// Max number of bytes which will be uploaded at a time.\n",
              "const MAX_PAYLOAD_SIZE = 100 * 1024;\n",
              "\n",
              "function _uploadFiles(inputId, outputId) {\n",
              "  const steps = uploadFilesStep(inputId, outputId);\n",
              "  const outputElement = document.getElementById(outputId);\n",
              "  // Cache steps on the outputElement to make it available for the next call\n",
              "  // to uploadFilesContinue from Python.\n",
              "  outputElement.steps = steps;\n",
              "\n",
              "  return _uploadFilesContinue(outputId);\n",
              "}\n",
              "\n",
              "// This is roughly an async generator (not supported in the browser yet),\n",
              "// where there are multiple asynchronous steps and the Python side is going\n",
              "// to poll for completion of each step.\n",
              "// This uses a Promise to block the python side on completion of each step,\n",
              "// then passes the result of the previous step as the input to the next step.\n",
              "function _uploadFilesContinue(outputId) {\n",
              "  const outputElement = document.getElementById(outputId);\n",
              "  const steps = outputElement.steps;\n",
              "\n",
              "  const next = steps.next(outputElement.lastPromiseValue);\n",
              "  return Promise.resolve(next.value.promise).then((value) => {\n",
              "    // Cache the last promise value to make it available to the next\n",
              "    // step of the generator.\n",
              "    outputElement.lastPromiseValue = value;\n",
              "    return next.value.response;\n",
              "  });\n",
              "}\n",
              "\n",
              "/**\n",
              " * Generator function which is called between each async step of the upload\n",
              " * process.\n",
              " * @param {string} inputId Element ID of the input file picker element.\n",
              " * @param {string} outputId Element ID of the output display.\n",
              " * @return {!Iterable<!Object>} Iterable of next steps.\n",
              " */\n",
              "function* uploadFilesStep(inputId, outputId) {\n",
              "  const inputElement = document.getElementById(inputId);\n",
              "  inputElement.disabled = false;\n",
              "\n",
              "  const outputElement = document.getElementById(outputId);\n",
              "  outputElement.innerHTML = '';\n",
              "\n",
              "  const pickedPromise = new Promise((resolve) => {\n",
              "    inputElement.addEventListener('change', (e) => {\n",
              "      resolve(e.target.files);\n",
              "    });\n",
              "  });\n",
              "\n",
              "  const cancel = document.createElement('button');\n",
              "  inputElement.parentElement.appendChild(cancel);\n",
              "  cancel.textContent = 'Cancel upload';\n",
              "  const cancelPromise = new Promise((resolve) => {\n",
              "    cancel.onclick = () => {\n",
              "      resolve(null);\n",
              "    };\n",
              "  });\n",
              "\n",
              "  // Wait for the user to pick the files.\n",
              "  const files = yield {\n",
              "    promise: Promise.race([pickedPromise, cancelPromise]),\n",
              "    response: {\n",
              "      action: 'starting',\n",
              "    }\n",
              "  };\n",
              "\n",
              "  cancel.remove();\n",
              "\n",
              "  // Disable the input element since further picks are not allowed.\n",
              "  inputElement.disabled = true;\n",
              "\n",
              "  if (!files) {\n",
              "    return {\n",
              "      response: {\n",
              "        action: 'complete',\n",
              "      }\n",
              "    };\n",
              "  }\n",
              "\n",
              "  for (const file of files) {\n",
              "    const li = document.createElement('li');\n",
              "    li.append(span(file.name, {fontWeight: 'bold'}));\n",
              "    li.append(span(\n",
              "        `(${file.type || 'n/a'}) - ${file.size} bytes, ` +\n",
              "        `last modified: ${\n",
              "            file.lastModifiedDate ? file.lastModifiedDate.toLocaleDateString() :\n",
              "                                    'n/a'} - `));\n",
              "    const percent = span('0% done');\n",
              "    li.appendChild(percent);\n",
              "\n",
              "    outputElement.appendChild(li);\n",
              "\n",
              "    const fileDataPromise = new Promise((resolve) => {\n",
              "      const reader = new FileReader();\n",
              "      reader.onload = (e) => {\n",
              "        resolve(e.target.result);\n",
              "      };\n",
              "      reader.readAsArrayBuffer(file);\n",
              "    });\n",
              "    // Wait for the data to be ready.\n",
              "    let fileData = yield {\n",
              "      promise: fileDataPromise,\n",
              "      response: {\n",
              "        action: 'continue',\n",
              "      }\n",
              "    };\n",
              "\n",
              "    // Use a chunked sending to avoid message size limits. See b/62115660.\n",
              "    let position = 0;\n",
              "    do {\n",
              "      const length = Math.min(fileData.byteLength - position, MAX_PAYLOAD_SIZE);\n",
              "      const chunk = new Uint8Array(fileData, position, length);\n",
              "      position += length;\n",
              "\n",
              "      const base64 = btoa(String.fromCharCode.apply(null, chunk));\n",
              "      yield {\n",
              "        response: {\n",
              "          action: 'append',\n",
              "          file: file.name,\n",
              "          data: base64,\n",
              "        },\n",
              "      };\n",
              "\n",
              "      let percentDone = fileData.byteLength === 0 ?\n",
              "          100 :\n",
              "          Math.round((position / fileData.byteLength) * 100);\n",
              "      percent.textContent = `${percentDone}% done`;\n",
              "\n",
              "    } while (position < fileData.byteLength);\n",
              "  }\n",
              "\n",
              "  // All done.\n",
              "  yield {\n",
              "    response: {\n",
              "      action: 'complete',\n",
              "    }\n",
              "  };\n",
              "}\n",
              "\n",
              "scope.google = scope.google || {};\n",
              "scope.google.colab = scope.google.colab || {};\n",
              "scope.google.colab._files = {\n",
              "  _uploadFiles,\n",
              "  _uploadFilesContinue,\n",
              "};\n",
              "})(self);\n",
              "</script> "
            ]
          },
          "metadata": {}
        },
        {
          "output_type": "stream",
          "name": "stdout",
          "text": [
            "Saving fraudTrain.csv to fraudTrain.csv\n",
            "Saving fraudTest.csv to fraudTest.csv\n"
          ]
        }
      ],
      "source": [
        "uploaded = files.upload()"
      ]
    },
    {
      "cell_type": "code",
      "execution_count": 3,
      "metadata": {
        "id": "sml4I1vh3Uap"
      },
      "outputs": [],
      "source": [
        "train_df = pd.read_csv(\"fraudTrain.csv\")\n",
        "test_df = pd.read_csv(\"fraudTest.csv\")"
      ]
    },
    {
      "cell_type": "code",
      "execution_count": 4,
      "metadata": {
        "id": "lc63MUkC3jRQ",
        "colab": {
          "base_uri": "https://localhost:8080/"
        },
        "outputId": "94519f94-48ee-49b0-ebe2-b35b59965b47"
      },
      "outputs": [
        {
          "output_type": "stream",
          "name": "stdout",
          "text": [
            "Training Data Head:\n",
            "    Unnamed: 0 trans_date_trans_time            cc_num  \\\n",
            "0           0   2019-01-01 00:00:18  2703186189652095   \n",
            "1           1   2019-01-01 00:00:44      630423337322   \n",
            "2           2   2019-01-01 00:00:51    38859492057661   \n",
            "3           3   2019-01-01 00:01:16  3534093764340240   \n",
            "4           4   2019-01-01 00:03:06   375534208663984   \n",
            "\n",
            "                             merchant       category     amt      first  \\\n",
            "0          fraud_Rippin, Kub and Mann       misc_net    4.97   Jennifer   \n",
            "1     fraud_Heller, Gutmann and Zieme    grocery_pos  107.23  Stephanie   \n",
            "2                fraud_Lind-Buckridge  entertainment  220.11     Edward   \n",
            "3  fraud_Kutch, Hermiston and Farrell  gas_transport   45.00     Jeremy   \n",
            "4                 fraud_Keeling-Crist       misc_pos   41.96      Tyler   \n",
            "\n",
            "      last gender                        street  ...      lat      long  \\\n",
            "0    Banks      F                561 Perry Cove  ...  36.0788  -81.1781   \n",
            "1     Gill      F  43039 Riley Greens Suite 393  ...  48.8878 -118.2105   \n",
            "2  Sanchez      M      594 White Dale Suite 530  ...  42.1808 -112.2620   \n",
            "3    White      M   9443 Cynthia Court Apt. 038  ...  46.2306 -112.1138   \n",
            "4   Garcia      M              408 Bradley Rest  ...  38.4207  -79.4629   \n",
            "\n",
            "   city_pop                                job         dob  \\\n",
            "0      3495          Psychologist, counselling  1988-03-09   \n",
            "1       149  Special educational needs teacher  1978-06-21   \n",
            "2      4154        Nature conservation officer  1962-01-19   \n",
            "3      1939                    Patent attorney  1967-01-12   \n",
            "4        99     Dance movement psychotherapist  1986-03-28   \n",
            "\n",
            "                          trans_num   unix_time  merch_lat  merch_long  \\\n",
            "0  0b242abb623afc578575680df30655b9  1325376018  36.011293  -82.048315   \n",
            "1  1f76529f8574734946361c461b024d99  1325376044  49.159047 -118.186462   \n",
            "2  a1a22d70485983eac12b5b88dad1cf95  1325376051  43.150704 -112.154481   \n",
            "3  6b849c168bdad6f867558c3793159a81  1325376076  47.034331 -112.561071   \n",
            "4  a41d7549acf90789359a9aa5346dcb46  1325376186  38.674999  -78.632459   \n",
            "\n",
            "   is_fraud  \n",
            "0         0  \n",
            "1         0  \n",
            "2         0  \n",
            "3         0  \n",
            "4         0  \n",
            "\n",
            "[5 rows x 23 columns]\n",
            "\n",
            "Training Data Info:\n",
            "<class 'pandas.core.frame.DataFrame'>\n",
            "RangeIndex: 1296675 entries, 0 to 1296674\n",
            "Data columns (total 23 columns):\n",
            " #   Column                 Non-Null Count    Dtype  \n",
            "---  ------                 --------------    -----  \n",
            " 0   Unnamed: 0             1296675 non-null  int64  \n",
            " 1   trans_date_trans_time  1296675 non-null  object \n",
            " 2   cc_num                 1296675 non-null  int64  \n",
            " 3   merchant               1296675 non-null  object \n",
            " 4   category               1296675 non-null  object \n",
            " 5   amt                    1296675 non-null  float64\n",
            " 6   first                  1296675 non-null  object \n",
            " 7   last                   1296675 non-null  object \n",
            " 8   gender                 1296675 non-null  object \n",
            " 9   street                 1296675 non-null  object \n",
            " 10  city                   1296675 non-null  object \n",
            " 11  state                  1296675 non-null  object \n",
            " 12  zip                    1296675 non-null  int64  \n",
            " 13  lat                    1296675 non-null  float64\n",
            " 14  long                   1296675 non-null  float64\n",
            " 15  city_pop               1296675 non-null  int64  \n",
            " 16  job                    1296675 non-null  object \n",
            " 17  dob                    1296675 non-null  object \n",
            " 18  trans_num              1296675 non-null  object \n",
            " 19  unix_time              1296675 non-null  int64  \n",
            " 20  merch_lat              1296675 non-null  float64\n",
            " 21  merch_long             1296675 non-null  float64\n",
            " 22  is_fraud               1296675 non-null  int64  \n",
            "dtypes: float64(5), int64(6), object(12)\n",
            "memory usage: 227.5+ MB\n",
            "None\n"
          ]
        }
      ],
      "source": [
        "print(\"Training Data Head:\\n\", train_df.head())\n",
        "print(\"\\nTraining Data Info:\")\n",
        "print(train_df.info())"
      ]
    },
    {
      "cell_type": "code",
      "execution_count": 5,
      "metadata": {
        "id": "Z62dW9yv3jwM",
        "colab": {
          "base_uri": "https://localhost:8080/"
        },
        "outputId": "fbac47cc-6c28-4cf3-97ce-d80ec4571b05"
      },
      "outputs": [
        {
          "output_type": "stream",
          "name": "stdout",
          "text": [
            "\n",
            "Missing Values in Train Data:\n",
            " Unnamed: 0               0\n",
            "trans_date_trans_time    0\n",
            "cc_num                   0\n",
            "merchant                 0\n",
            "category                 0\n",
            "amt                      0\n",
            "first                    0\n",
            "last                     0\n",
            "gender                   0\n",
            "street                   0\n",
            "city                     0\n",
            "state                    0\n",
            "zip                      0\n",
            "lat                      0\n",
            "long                     0\n",
            "city_pop                 0\n",
            "job                      0\n",
            "dob                      0\n",
            "trans_num                0\n",
            "unix_time                0\n",
            "merch_lat                0\n",
            "merch_long               0\n",
            "is_fraud                 0\n",
            "dtype: int64\n",
            "\n",
            "Missing Values in Test Data:\n",
            " Unnamed: 0               0\n",
            "trans_date_trans_time    0\n",
            "cc_num                   0\n",
            "merchant                 0\n",
            "category                 0\n",
            "amt                      0\n",
            "first                    0\n",
            "last                     0\n",
            "gender                   0\n",
            "street                   0\n",
            "city                     0\n",
            "state                    0\n",
            "zip                      0\n",
            "lat                      0\n",
            "long                     0\n",
            "city_pop                 0\n",
            "job                      0\n",
            "dob                      0\n",
            "trans_num                0\n",
            "unix_time                0\n",
            "merch_lat                0\n",
            "merch_long               0\n",
            "is_fraud                 0\n",
            "dtype: int64\n"
          ]
        }
      ],
      "source": [
        "print(\"\\nMissing Values in Train Data:\\n\", train_df.isnull().sum())\n",
        "print(\"\\nMissing Values in Test Data:\\n\", test_df.isnull().sum())"
      ]
    },
    {
      "cell_type": "code",
      "execution_count": 6,
      "metadata": {
        "id": "tQCZ-weh3mdX",
        "colab": {
          "base_uri": "https://localhost:8080/"
        },
        "outputId": "90af47d8-5055-404e-fd96-d2ce766587c7"
      },
      "outputs": [
        {
          "output_type": "stream",
          "name": "stdout",
          "text": [
            "\n",
            "Fraud Cases Distribution in Training Set:\n",
            " is_fraud\n",
            "0    1289169\n",
            "1       7506\n",
            "Name: count, dtype: int64\n",
            "\n",
            "Fraud Cases Distribution in Test Set:\n",
            " is_fraud\n",
            "0    553574\n",
            "1      2145\n",
            "Name: count, dtype: int64\n"
          ]
        }
      ],
      "source": [
        "print(\"\\nFraud Cases Distribution in Training Set:\\n\", train_df['is_fraud'].value_counts())\n",
        "print(\"\\nFraud Cases Distribution in Test Set:\\n\", test_df['is_fraud'].value_counts())"
      ]
    },
    {
      "cell_type": "code",
      "execution_count": null,
      "metadata": {
        "id": "WCBnVdwk3o1z"
      },
      "outputs": [],
      "source": []
    }
  ],
  "metadata": {
    "colab": {
      "provenance": [],
      "gpuType": "T4",
      "authorship_tag": "ABX9TyOejAY4x9ONAQnvb9jDlH+9",
      "include_colab_link": true
    },
    "kernelspec": {
      "display_name": "Python 3",
      "name": "python3"
    },
    "language_info": {
      "name": "python"
    },
    "accelerator": "GPU"
  },
  "nbformat": 4,
  "nbformat_minor": 0
}